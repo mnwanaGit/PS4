{
  "nbformat": 4,
  "nbformat_minor": 0,
  "metadata": {
    "colab": {
      "name": "MN-PS4.ipynb",
      "provenance": [],
      "collapsed_sections": []
    },
    "kernelspec": {
      "name": "python3",
      "display_name": "Python 3"
    },
    "language_info": {
      "name": "python"
    }
  },
  "cells": [
    {
      "cell_type": "code",
      "execution_count": 1,
      "metadata": {
        "colab": {
          "base_uri": "https://localhost:8080/"
        },
        "id": "ZipdVi_f8rP0",
        "outputId": "b85fb928-d536-475f-d9a8-4c07ec49a19b"
      },
      "outputs": [
        {
          "output_type": "stream",
          "name": "stdout",
          "text": [
            "To authorize access needed by Earth Engine, open the following URL in a web browser and follow the instructions. If the web browser does not start automatically, please manually browse the URL below.\n",
            "\n",
            "    https://accounts.google.com/o/oauth2/auth?client_id=517222506229-vsmmajv00ul0bs7p89v5m89qs8eb9359.apps.googleusercontent.com&scope=https%3A%2F%2Fwww.googleapis.com%2Fauth%2Fearthengine+https%3A%2F%2Fwww.googleapis.com%2Fauth%2Fdevstorage.full_control&redirect_uri=urn%3Aietf%3Awg%3Aoauth%3A2.0%3Aoob&response_type=code&code_challenge=hSByOYt2H5MF6LGOh73YAJeP3qMEY7MVE7DJ6VfgDsQ&code_challenge_method=S256\n",
            "\n",
            "The authorization workflow will generate a code, which you should paste in the box below. \n",
            "Enter verification code: 4/1AX4XfWh6x3Yf1qt2dJKiJllR2UaJe12T0QLC84m9gIMMIFugf4pF6i9hOik\n",
            "\n",
            "Successfully saved authorization token.\n"
          ]
        }
      ],
      "source": [
        "import ee\n",
        "import folium\n",
        "# Trigger the authentication flow.\n",
        "ee.Authenticate()\n",
        "\n",
        "# Initialize the library.\n",
        "ee.Initialize()\n",
        "\n",
        "# This is needed in python to add layers to Folium\n",
        "def add_ee_layer(self, ee_image_object, vis_params, name):\n",
        "    \"\"\"Adds a method for displaying Earth Engine image tiles to folium map.\"\"\"\n",
        "    map_id_dict = ee.Image(ee_image_object).getMapId(vis_params)\n",
        "    folium.raster_layers.TileLayer(\n",
        "        tiles=map_id_dict['tile_fetcher'].url_format,\n",
        "        attr='Map Data &copy; <a href=\"https://earthengine.google.com/\">Google Earth Engine</a>',\n",
        "        name=name,\n",
        "        overlay=True,\n",
        "        control=True\n",
        "    ).add_to(self)\n",
        "\n",
        "# Add EE drawing method to folium.\n",
        "folium.Map.add_ee_layer = add_ee_layer"
      ]
    },
    {
      "cell_type": "code",
      "source": [
        "#initialize map area\n",
        "lat = 41.0340\n",
        "lon = -73.7629\n",
        "\n",
        "# Import aboveground biomass carbon density\n",
        "bm = ee.Image(\"NASA/ORNL/biomass_carbon_density/v1/2010\")\n",
        "\n",
        "url = bm.getThumbUrl({'opacity': .8,\n",
        "  'bands': ['agb'],\n",
        "  'min': -50,\n",
        "  'max': 80,\n",
        "  'palette': ['d9f0a3', 'addd8e', '78c679', '41ab5d', '238443', '005a32'],\n",
        "  'dimensions': 512,\n",
        "  'region': ee.Geometry.Rectangle([-74,40.5,-73, 41.5])\n",
        "})\n",
        "\n",
        "print(url)\n",
        "from IPython.display import Image\n",
        "\n",
        "# Display the thumbnail land surface temperature in White Plains.\n",
        "print('\\nPlease wait while the thumbnail loads, it may take a moment...')\n",
        "Image(url=url)"
      ],
      "metadata": {
        "colab": {
          "base_uri": "https://localhost:8080/",
          "height": 605
        },
        "id": "VV_RzrD9JKNl",
        "outputId": "0c106c42-c2e5-40c8-9496-bed411205841"
      },
      "execution_count": 14,
      "outputs": [
        {
          "output_type": "stream",
          "name": "stdout",
          "text": [
            "https://earthengine.googleapis.com/v1alpha/projects/earthengine-legacy/thumbnails/ced8f6d7f270e90e99d5559bd982da07-1c5b08194693624a7c45ea71ef0aa358:getPixels\n",
            "\n",
            "Please wait while the thumbnail loads, it may take a moment...\n"
          ]
        },
        {
          "output_type": "execute_result",
          "data": {
            "text/plain": [
              "<IPython.core.display.Image object>"
            ],
            "text/html": [
              "<img src=\"https://earthengine.googleapis.com/v1alpha/projects/earthengine-legacy/thumbnails/ced8f6d7f270e90e99d5559bd982da07-1c5b08194693624a7c45ea71ef0aa358:getPixels\"/>"
            ]
          },
          "metadata": {},
          "execution_count": 14
        }
      ]
    }
  ]
}